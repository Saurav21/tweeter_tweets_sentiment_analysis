{
 "cells": [
  {
   "cell_type": "code",
   "execution_count": 2,
   "id": "5dfe297b",
   "metadata": {},
   "outputs": [],
   "source": [
    "import pandas as pd\n",
    "import os"
   ]
  },
  {
   "cell_type": "code",
   "execution_count": 3,
   "id": "0a7673eb",
   "metadata": {},
   "outputs": [],
   "source": [
    "#Dataset Sentiment140\n",
    "# datasets links (http://help.sentiment140.com/for-students/)\n",
    "\n",
    "cols = [\"sentiments\",\"id\",\"data\", \"query_string\", \"user\", \"text\"]\n",
    "bas_dir = \"\"\n",
    "data = pd.read_csv(os.path.join(bas_dir, \"tweets_data/train.csv\"),header = None, encoding = \"latin-1\", names= cols)\n",
    "\n"
   ]
  },
  {
   "cell_type": "code",
   "execution_count": 4,
   "id": "5cd2e114",
   "metadata": {},
   "outputs": [
    {
     "data": {
      "text/html": [
       "<div>\n",
       "<style scoped>\n",
       "    .dataframe tbody tr th:only-of-type {\n",
       "        vertical-align: middle;\n",
       "    }\n",
       "\n",
       "    .dataframe tbody tr th {\n",
       "        vertical-align: top;\n",
       "    }\n",
       "\n",
       "    .dataframe thead th {\n",
       "        text-align: right;\n",
       "    }\n",
       "</style>\n",
       "<table border=\"1\" class=\"dataframe\">\n",
       "  <thead>\n",
       "    <tr style=\"text-align: right;\">\n",
       "      <th></th>\n",
       "      <th>sentiments</th>\n",
       "      <th>id</th>\n",
       "      <th>data</th>\n",
       "      <th>query_string</th>\n",
       "      <th>user</th>\n",
       "      <th>text</th>\n",
       "    </tr>\n",
       "  </thead>\n",
       "  <tbody>\n",
       "    <tr>\n",
       "      <th>0</th>\n",
       "      <td>0</td>\n",
       "      <td>1467810369</td>\n",
       "      <td>Mon Apr 06 22:19:45 PDT 2009</td>\n",
       "      <td>NO_QUERY</td>\n",
       "      <td>_TheSpecialOne_</td>\n",
       "      <td>@switchfoot http://twitpic.com/2y1zl - Awww, t...</td>\n",
       "    </tr>\n",
       "    <tr>\n",
       "      <th>1</th>\n",
       "      <td>0</td>\n",
       "      <td>1467810672</td>\n",
       "      <td>Mon Apr 06 22:19:49 PDT 2009</td>\n",
       "      <td>NO_QUERY</td>\n",
       "      <td>scotthamilton</td>\n",
       "      <td>is upset that he can't update his Facebook by ...</td>\n",
       "    </tr>\n",
       "    <tr>\n",
       "      <th>2</th>\n",
       "      <td>0</td>\n",
       "      <td>1467810917</td>\n",
       "      <td>Mon Apr 06 22:19:53 PDT 2009</td>\n",
       "      <td>NO_QUERY</td>\n",
       "      <td>mattycus</td>\n",
       "      <td>@Kenichan I dived many times for the ball. Man...</td>\n",
       "    </tr>\n",
       "    <tr>\n",
       "      <th>3</th>\n",
       "      <td>0</td>\n",
       "      <td>1467811184</td>\n",
       "      <td>Mon Apr 06 22:19:57 PDT 2009</td>\n",
       "      <td>NO_QUERY</td>\n",
       "      <td>ElleCTF</td>\n",
       "      <td>my whole body feels itchy and like its on fire</td>\n",
       "    </tr>\n",
       "    <tr>\n",
       "      <th>4</th>\n",
       "      <td>0</td>\n",
       "      <td>1467811193</td>\n",
       "      <td>Mon Apr 06 22:19:57 PDT 2009</td>\n",
       "      <td>NO_QUERY</td>\n",
       "      <td>Karoli</td>\n",
       "      <td>@nationwideclass no, it's not behaving at all....</td>\n",
       "    </tr>\n",
       "  </tbody>\n",
       "</table>\n",
       "</div>"
      ],
      "text/plain": [
       "   sentiments          id                          data query_string  \\\n",
       "0           0  1467810369  Mon Apr 06 22:19:45 PDT 2009     NO_QUERY   \n",
       "1           0  1467810672  Mon Apr 06 22:19:49 PDT 2009     NO_QUERY   \n",
       "2           0  1467810917  Mon Apr 06 22:19:53 PDT 2009     NO_QUERY   \n",
       "3           0  1467811184  Mon Apr 06 22:19:57 PDT 2009     NO_QUERY   \n",
       "4           0  1467811193  Mon Apr 06 22:19:57 PDT 2009     NO_QUERY   \n",
       "\n",
       "              user                                               text  \n",
       "0  _TheSpecialOne_  @switchfoot http://twitpic.com/2y1zl - Awww, t...  \n",
       "1    scotthamilton  is upset that he can't update his Facebook by ...  \n",
       "2         mattycus  @Kenichan I dived many times for the ball. Man...  \n",
       "3          ElleCTF    my whole body feels itchy and like its on fire   \n",
       "4           Karoli  @nationwideclass no, it's not behaving at all....  "
      ]
     },
     "execution_count": 4,
     "metadata": {},
     "output_type": "execute_result"
    }
   ],
   "source": [
    "data.head()"
   ]
  },
  {
   "cell_type": "code",
   "execution_count": 5,
   "id": "06cc388e",
   "metadata": {},
   "outputs": [
    {
     "name": "stdout",
     "output_type": "stream",
     "text": [
      "<class 'pandas.core.frame.DataFrame'>\n",
      "RangeIndex: 1600000 entries, 0 to 1599999\n",
      "Data columns (total 6 columns):\n",
      " #   Column        Non-Null Count    Dtype \n",
      "---  ------        --------------    ----- \n",
      " 0   sentiments    1600000 non-null  int64 \n",
      " 1   id            1600000 non-null  int64 \n",
      " 2   data          1600000 non-null  object\n",
      " 3   query_string  1600000 non-null  object\n",
      " 4   user          1600000 non-null  object\n",
      " 5   text          1600000 non-null  object\n",
      "dtypes: int64(2), object(4)\n",
      "memory usage: 73.2+ MB\n"
     ]
    }
   ],
   "source": [
    "data.info()"
   ]
  },
  {
   "cell_type": "code",
   "execution_count": 6,
   "id": "cb417fd4",
   "metadata": {},
   "outputs": [],
   "source": [
    "import re\n",
    "from gensim.parsing.preprocessing import remove_stopwords\n",
    "import string\n",
    "import unicodedata\n",
    "\n",
    "def lower_case(text):\n",
    "    return text.lower()\n",
    "\n",
    "def remove_punctuation(text):\n",
    "    text_list = [char for char in text if char not in string.punctuation]\n",
    "    clean_text = \"\".join(text_list)\n",
    "    return clean_text\n",
    "\n",
    "def remove_numbers(text):\n",
    "    text_list = []\n",
    "    for i in text:\n",
    "        if not re.search(\"\\d\", i):\n",
    "            text_list.append(i)\n",
    "    return \"\".join(text_list)\n",
    "\n",
    "def remove_special_char(text):\n",
    "    pat =  r'[^a-zA-z0-9]' \n",
    "    return re.sub(pat, \" \", text)\n",
    "\n",
    "def remove_unicode_char(text):\n",
    "    new_text = unicodedata.normalize('NFKD', text).encode('ascii', 'ignore').decode('utf-8', 'ignore')\n",
    "    return new_text\n",
    "\n",
    "def hastage(text):\n",
    "    hash_text = re.findall(r\"#(\\w+)\", text)\n",
    "    \n",
    "    return hash_text\n",
    "\n",
    "def remove_user(text):\n",
    "    clean_text = re.sub('(@[A-Za-z]+[A-Za-z0-9-_]+)', '', text)\n",
    "    \n",
    "    return clean_text\n",
    "\n",
    "def remove_links(text):\n",
    "    clean_text = re.sub(r'http\\S+', '', text)\n",
    "    clean_text = re.sub(r'bit.ly/\\S+', '', text)\n",
    "    clean_text = clean_text.strip('[link]')\n",
    "    \n",
    "    return clean_text\n",
    "\n",
    "def remove_html(text):\n",
    "    html = re.compile('<.*?>')\n",
    "    \n",
    "    return html.sub(r'',text)\n",
    "\n",
    "def remove_email(text):\n",
    "    email = re.compile(r'[\\w\\.-]+@[\\w\\.-]+')\n",
    "    return email.sub(r'',text)\n",
    "\n",
    "def remove_stopwords_from_text(text):\n",
    "    \n",
    "    clean_text = remove_stopwords(text)\n",
    "    \n",
    "    return clean_text"
   ]
  },
  {
   "cell_type": "code",
   "execution_count": 7,
   "id": "e3ab9f78",
   "metadata": {},
   "outputs": [],
   "source": [
    "data[\"clean_tweets\"] = data.text.apply(lower_case)\n"
   ]
  },
  {
   "cell_type": "code",
   "execution_count": 8,
   "id": "3d89b6ab",
   "metadata": {},
   "outputs": [],
   "source": [
    "data[\"clean_tweets\"] = data[\"clean_tweets\"].apply(remove_punctuation)\n"
   ]
  },
  {
   "cell_type": "code",
   "execution_count": 9,
   "id": "a860ec04",
   "metadata": {},
   "outputs": [],
   "source": [
    "data[\"clean_tweets\"] = data[\"clean_tweets\"].apply(remove_numbers)\n"
   ]
  },
  {
   "cell_type": "code",
   "execution_count": 10,
   "id": "8c30eba0",
   "metadata": {},
   "outputs": [],
   "source": [
    "data[\"clean_tweets\"] = data[\"clean_tweets\"].apply(remove_special_char)\n"
   ]
  },
  {
   "cell_type": "code",
   "execution_count": 11,
   "id": "9a28d757",
   "metadata": {},
   "outputs": [],
   "source": [
    "data[\"clean_tweets\"] = data[\"clean_tweets\"].apply(remove_unicode_char)\n"
   ]
  },
  {
   "cell_type": "code",
   "execution_count": 12,
   "id": "62af48d3",
   "metadata": {},
   "outputs": [],
   "source": [
    "data[\"clean_tweets\"] = data[\"clean_tweets\"].apply(remove_user)\n"
   ]
  },
  {
   "cell_type": "code",
   "execution_count": 13,
   "id": "d3fd98cc",
   "metadata": {},
   "outputs": [],
   "source": [
    "data[\"clean_tweets\"] = data[\"clean_tweets\"].apply(remove_links)\n"
   ]
  },
  {
   "cell_type": "code",
   "execution_count": 14,
   "id": "46681c7b",
   "metadata": {},
   "outputs": [],
   "source": [
    "data[\"clean_tweets\"] = data[\"clean_tweets\"].apply(remove_html)\n"
   ]
  },
  {
   "cell_type": "code",
   "execution_count": 15,
   "id": "89845e51",
   "metadata": {},
   "outputs": [],
   "source": [
    "data[\"clean_tweets\"] = data[\"clean_tweets\"].apply(remove_email)\n"
   ]
  },
  {
   "cell_type": "code",
   "execution_count": 16,
   "id": "7933b073",
   "metadata": {},
   "outputs": [],
   "source": [
    "data[\"clean_tweets\"] = data[\"clean_tweets\"].apply(remove_stopwords_from_text)"
   ]
  },
  {
   "cell_type": "code",
   "execution_count": 17,
   "id": "dcdfb573",
   "metadata": {},
   "outputs": [
    {
     "data": {
      "text/html": [
       "<div>\n",
       "<style scoped>\n",
       "    .dataframe tbody tr th:only-of-type {\n",
       "        vertical-align: middle;\n",
       "    }\n",
       "\n",
       "    .dataframe tbody tr th {\n",
       "        vertical-align: top;\n",
       "    }\n",
       "\n",
       "    .dataframe thead th {\n",
       "        text-align: right;\n",
       "    }\n",
       "</style>\n",
       "<table border=\"1\" class=\"dataframe\">\n",
       "  <thead>\n",
       "    <tr style=\"text-align: right;\">\n",
       "      <th></th>\n",
       "      <th>sentiments</th>\n",
       "      <th>id</th>\n",
       "      <th>data</th>\n",
       "      <th>query_string</th>\n",
       "      <th>user</th>\n",
       "      <th>text</th>\n",
       "      <th>clean_tweets</th>\n",
       "    </tr>\n",
       "  </thead>\n",
       "  <tbody>\n",
       "    <tr>\n",
       "      <th>0</th>\n",
       "      <td>0</td>\n",
       "      <td>1467810369</td>\n",
       "      <td>Mon Apr 06 22:19:45 PDT 2009</td>\n",
       "      <td>NO_QUERY</td>\n",
       "      <td>_TheSpecialOne_</td>\n",
       "      <td>@switchfoot http://twitpic.com/2y1zl - Awww, t...</td>\n",
       "      <td>switchfoot httptwitpiccomyzl awww thats bummer...</td>\n",
       "    </tr>\n",
       "    <tr>\n",
       "      <th>1</th>\n",
       "      <td>0</td>\n",
       "      <td>1467810672</td>\n",
       "      <td>Mon Apr 06 22:19:49 PDT 2009</td>\n",
       "      <td>NO_QUERY</td>\n",
       "      <td>scotthamilton</td>\n",
       "      <td>is upset that he can't update his Facebook by ...</td>\n",
       "      <td>s upset update facebook texting result school ...</td>\n",
       "    </tr>\n",
       "    <tr>\n",
       "      <th>2</th>\n",
       "      <td>0</td>\n",
       "      <td>1467810917</td>\n",
       "      <td>Mon Apr 06 22:19:53 PDT 2009</td>\n",
       "      <td>NO_QUERY</td>\n",
       "      <td>mattycus</td>\n",
       "      <td>@Kenichan I dived many times for the ball. Man...</td>\n",
       "      <td>enichan dived times ball managed save rest bounds</td>\n",
       "    </tr>\n",
       "    <tr>\n",
       "      <th>3</th>\n",
       "      <td>0</td>\n",
       "      <td>1467811184</td>\n",
       "      <td>Mon Apr 06 22:19:57 PDT 2009</td>\n",
       "      <td>NO_QUERY</td>\n",
       "      <td>ElleCTF</td>\n",
       "      <td>my whole body feels itchy and like its on fire</td>\n",
       "      <td>body feels itchy like</td>\n",
       "    </tr>\n",
       "    <tr>\n",
       "      <th>4</th>\n",
       "      <td>0</td>\n",
       "      <td>1467811193</td>\n",
       "      <td>Mon Apr 06 22:19:57 PDT 2009</td>\n",
       "      <td>NO_QUERY</td>\n",
       "      <td>Karoli</td>\n",
       "      <td>@nationwideclass no, it's not behaving at all....</td>\n",
       "      <td>ationwideclass behaving im mad</td>\n",
       "    </tr>\n",
       "  </tbody>\n",
       "</table>\n",
       "</div>"
      ],
      "text/plain": [
       "   sentiments          id                          data query_string  \\\n",
       "0           0  1467810369  Mon Apr 06 22:19:45 PDT 2009     NO_QUERY   \n",
       "1           0  1467810672  Mon Apr 06 22:19:49 PDT 2009     NO_QUERY   \n",
       "2           0  1467810917  Mon Apr 06 22:19:53 PDT 2009     NO_QUERY   \n",
       "3           0  1467811184  Mon Apr 06 22:19:57 PDT 2009     NO_QUERY   \n",
       "4           0  1467811193  Mon Apr 06 22:19:57 PDT 2009     NO_QUERY   \n",
       "\n",
       "              user                                               text  \\\n",
       "0  _TheSpecialOne_  @switchfoot http://twitpic.com/2y1zl - Awww, t...   \n",
       "1    scotthamilton  is upset that he can't update his Facebook by ...   \n",
       "2         mattycus  @Kenichan I dived many times for the ball. Man...   \n",
       "3          ElleCTF    my whole body feels itchy and like its on fire    \n",
       "4           Karoli  @nationwideclass no, it's not behaving at all....   \n",
       "\n",
       "                                        clean_tweets  \n",
       "0  switchfoot httptwitpiccomyzl awww thats bummer...  \n",
       "1  s upset update facebook texting result school ...  \n",
       "2  enichan dived times ball managed save rest bounds  \n",
       "3                              body feels itchy like  \n",
       "4                     ationwideclass behaving im mad  "
      ]
     },
     "execution_count": 17,
     "metadata": {},
     "output_type": "execute_result"
    }
   ],
   "source": [
    "data.head()"
   ]
  },
  {
   "cell_type": "code",
   "execution_count": 18,
   "id": "1a414ce5",
   "metadata": {},
   "outputs": [
    {
     "data": {
      "text/plain": [
       "0          switchfoot httptwitpiccomyzl awww thats bummer...\n",
       "1          s upset update facebook texting result school ...\n",
       "2          enichan dived times ball managed save rest bounds\n",
       "3                                      body feels itchy like\n",
       "4                             ationwideclass behaving im mad\n",
       "                                 ...                        \n",
       "1599995                      woke having school best feeling\n",
       "1599996    thewdbcom cool hear old walt interviews httpbl...\n",
       "1599997                      ready mojo makeover ask details\n",
       "1599998    happy th birthday boo alll time tupac amaru sh...\n",
       "1599999    happy charitytuesday thenspcc sparkscharity sp...\n",
       "Name: clean_tweets, Length: 1600000, dtype: object"
      ]
     },
     "execution_count": 18,
     "metadata": {},
     "output_type": "execute_result"
    }
   ],
   "source": [
    "tweets = data[\"clean_tweets\"]\n",
    "\n",
    "tweets"
   ]
  },
  {
   "cell_type": "code",
   "execution_count": 19,
   "id": "fce1cc72",
   "metadata": {},
   "outputs": [],
   "source": [
    "sentiments = data[\"sentiments\"].values\n",
    "\n",
    "sentiments[sentiments == 4] = 1\n"
   ]
  },
  {
   "cell_type": "code",
   "execution_count": 20,
   "id": "155701e7",
   "metadata": {},
   "outputs": [
    {
     "data": {
      "text/plain": [
       "(array([0, 0, 0, ..., 1, 1, 1], dtype=int64), (1600000,))"
      ]
     },
     "execution_count": 20,
     "metadata": {},
     "output_type": "execute_result"
    }
   ],
   "source": [
    "sentiments,sentiments.shape"
   ]
  },
  {
   "cell_type": "code",
   "execution_count": 21,
   "id": "83284bd7",
   "metadata": {},
   "outputs": [],
   "source": [
    "from sklearn.model_selection import train_test_split\n",
    "\n",
    "x_train, x_test, y_train, y_test = train_test_split(tweets, sentiments, test_size= .20, random_state= 42)"
   ]
  },
  {
   "cell_type": "code",
   "execution_count": 22,
   "id": "428ca8c8",
   "metadata": {},
   "outputs": [
    {
     "data": {
      "text/plain": [
       "((1280000,), (320000,), (1280000,), (320000,))"
      ]
     },
     "execution_count": 22,
     "metadata": {},
     "output_type": "execute_result"
    }
   ],
   "source": [
    "x_train.shape, x_test.shape, y_train.shape, y_test.shape"
   ]
  },
  {
   "cell_type": "code",
   "execution_count": 23,
   "id": "a08e0c35",
   "metadata": {},
   "outputs": [
    {
     "data": {
      "text/plain": [
       "1374558    jbtaylor ya quotid like palm pre touchstone ch...\n",
       "1389115                  felt earthquake afternoon epicenter\n",
       "1137831                            ruffles shirts like likey\n",
       "790714     pretty bad night crappy morningfml buttface di...\n",
       "1117911                          dcbriccetti yeah clear view\n",
       "                                 ...                        \n",
       "259178          songs middle change doesnt want born arghhhh\n",
       "1414414                             officialnjonas good luck\n",
       "131932                               proudgamertweet average\n",
       "671155     pickin misstinayao waitin sadittysash hurry up...\n",
       "121958          home studying maths wooot im going fail shit\n",
       "Name: clean_tweets, Length: 1280000, dtype: object"
      ]
     },
     "execution_count": 23,
     "metadata": {},
     "output_type": "execute_result"
    }
   ],
   "source": [
    "x_train"
   ]
  },
  {
   "cell_type": "code",
   "execution_count": 26,
   "id": "d95273d6",
   "metadata": {},
   "outputs": [],
   "source": [
    "from sklearn.pipeline import Pipeline\n",
    "from sklearn.feature_extraction.text import TfidfVectorizer\n",
    "from sklearn.ensemble import RandomForestClassifier"
   ]
  },
  {
   "cell_type": "code",
   "execution_count": 27,
   "id": "8debf1a0",
   "metadata": {},
   "outputs": [],
   "source": [
    "naive_model = Pipeline([\n",
    "    (\"tf-idf\",TfidfVectorizer(max_features= 1000, lowercase= True)),\n",
    "    (\"random_forest\", RandomForestClassifier(n_estimators= 20))\n",
    "])"
   ]
  },
  {
   "cell_type": "code",
   "execution_count": 28,
   "id": "9225b019",
   "metadata": {},
   "outputs": [
    {
     "data": {
      "text/plain": [
       "Pipeline(steps=[('tf-idf', TfidfVectorizer(max_features=1000)),\n",
       "                ('random_forest', RandomForestClassifier(n_estimators=20))])"
      ]
     },
     "execution_count": 28,
     "metadata": {},
     "output_type": "execute_result"
    }
   ],
   "source": [
    "naive_model.fit(x_train, y_train)"
   ]
  },
  {
   "cell_type": "code",
   "execution_count": 35,
   "id": "f018e699",
   "metadata": {},
   "outputs": [],
   "source": [
    "from sklearn.metrics import accuracy_score, precision_recall_fscore_support\n",
    "\n",
    "def calculate_result(y_test_val, predicted_y):\n",
    "    accuracy = accuracy_score(y_test_val,predicted_y) * 100\n",
    "    precision, recall, f_score, _ = precision_recall_fscore_support(y_test_val, predicted_y, average = \"weighted\")\n",
    "    \n",
    "    result = {\n",
    "        \"Accuracy Score\" : accuracy,\n",
    "        \"Precision\" : precision,\n",
    "        \"Recall\" : recall,\n",
    "        \"F-score\" : f_score\n",
    "    }\n",
    "    return result"
   ]
  },
  {
   "cell_type": "code",
   "execution_count": 30,
   "id": "e95ef8b8",
   "metadata": {},
   "outputs": [],
   "source": [
    "y_predict = naive_model.predict(x_test)"
   ]
  },
  {
   "cell_type": "code",
   "execution_count": 31,
   "id": "37608a33",
   "metadata": {},
   "outputs": [
    {
     "data": {
      "text/plain": [
       "73.0053125"
      ]
     },
     "execution_count": 31,
     "metadata": {},
     "output_type": "execute_result"
    }
   ],
   "source": [
    "naive_model.score(x_test,y_test) * 100"
   ]
  },
  {
   "cell_type": "code",
   "execution_count": 37,
   "id": "2eab8c73",
   "metadata": {},
   "outputs": [
    {
     "name": "stdout",
     "output_type": "stream",
     "text": [
      "{'Accuracy Score': 73.0053125, 'Precision': 0.7303439760427439, 'Recall': 0.730053125, 'F-score': 0.7299425388689335}\n"
     ]
    }
   ],
   "source": [
    "result = calculate_result(y_test, y_predict)\n",
    "\n",
    "print(result)"
   ]
  },
  {
   "cell_type": "code",
   "execution_count": null,
   "id": "57393869",
   "metadata": {},
   "outputs": [],
   "source": []
  }
 ],
 "metadata": {
  "kernelspec": {
   "display_name": "Python 3",
   "language": "python",
   "name": "python3"
  },
  "language_info": {
   "codemirror_mode": {
    "name": "ipython",
    "version": 3
   },
   "file_extension": ".py",
   "mimetype": "text/x-python",
   "name": "python",
   "nbconvert_exporter": "python",
   "pygments_lexer": "ipython3",
   "version": "3.8.6"
  }
 },
 "nbformat": 4,
 "nbformat_minor": 5
}
